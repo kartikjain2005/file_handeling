{
  "nbformat": 4,
  "nbformat_minor": 0,
  "metadata": {
    "colab": {
      "provenance": []
    },
    "kernelspec": {
      "name": "python3",
      "display_name": "Python 3"
    },
    "language_info": {
      "name": "python"
    }
  },
  "cells": [
    {
      "cell_type": "markdown",
      "source": [
        "# ***Files, exceptional handling, logging and memory management Questions***"
      ],
      "metadata": {
        "id": "MPMdbzH4yfZC"
      }
    },
    {
      "cell_type": "markdown",
      "source": [
        "1. **What is the difference between interpreted and compiled languages**\n",
        "-  compiled language : The source code is translated into machine code by a compiler before it is run.\n",
        "\n",
        " - Examples: C, C++, Go, Rust\n",
        "\n",
        " - we write source code Compiler converts the entire code into a binary executable we run the executable\n",
        "\n",
        "- interpreted language : The source code is executed line-by-line by an interpreter at runtime.\n",
        "\n",
        "  - Examples: Python, JavaScript, Ruby\n",
        "\n",
        "  - we write source code\n",
        "Interpreter reads and executes it line-by-line"
      ],
      "metadata": {
        "id": "rt5pv-OlzQDY"
      }
    },
    {
      "cell_type": "markdown",
      "source": [
        "2. **What is exception handling in Python?**\n",
        "- Exception handling in Python is a way to gracefully handle errors that occur while your program is running, so that the program doesn't crash unexpectedly."
      ],
      "metadata": {
        "id": "HrtuRUn70fnC"
      }
    },
    {
      "cell_type": "markdown",
      "source": [
        "3. **What is the purpose of the finally block in exception handling?**\n",
        "- The finally block is used to define a section of code that always runs, no matter what — whether an exception occurred or not."
      ],
      "metadata": {
        "id": "390IYV1t03KB"
      }
    },
    {
      "cell_type": "markdown",
      "source": [
        "4. **What is logging in Python?**\n",
        "- Logging in Python is a way to track events that happen while your program runs — like a digital diary for your code.\n",
        "Instead of using print() statements for debugging or information, logging gives you more control and professionalism."
      ],
      "metadata": {
        "id": "XTsH_qOX1IMa"
      }
    },
    {
      "cell_type": "markdown",
      "source": [
        "5. **What is the significance of the __del__ method in Python?**\n",
        "- The __del__() method in Python is a special method that is automatically called when an object is about to be destroyed , when it is garbage collected."
      ],
      "metadata": {
        "id": "dmM9_c1_1bhf"
      }
    },
    {
      "cell_type": "markdown",
      "source": [
        "6. **What is the difference between import and from ... import in Python?**\n",
        "- import module -:\n",
        "This imports the entire module.\n",
        "\n",
        "  - You access functions/variables using the module name as a prefix\n",
        "\n",
        "\n",
        "- from module import something :-\n",
        "This imports only specific functions or variables from a module.\n",
        "\n",
        "  - You can use them directly without prefixing the module name."
      ],
      "metadata": {
        "id": "yh9dBLeY16DH"
      }
    },
    {
      "cell_type": "markdown",
      "source": [
        "7.  **How can you handle multiple exceptions in Python**\n",
        "- You can write different except blocks for different exception types:\n",
        "\n",
        "\n",
        "```\n",
        "# This is formatted as code\n",
        "try:\n",
        "    x = int(input(\"Enter a number: \"))\n",
        "    y = 10 / x\n",
        "except ValueError:\n",
        "    print(\"You must enter a valid number.\")\n",
        "except ZeroDivisionError:\n",
        "    print(\"Cannot divide by zero.\")\n",
        "\n",
        "```\n",
        "\n"
      ],
      "metadata": {
        "id": "AvDzO03Y3Gnn"
      }
    },
    {
      "cell_type": "markdown",
      "source": [
        "8.  **What is the purpose of the with statement when handling files in Python?**\n",
        "- The with statement is used in Python to simplify file handling and ensure proper cleanup, like automatically closing a file, even if an error occurs.\n",
        "\n",
        "\n",
        "\n",
        "```\n",
        "# This is formatted as code\n",
        "with open(\"file.txt\", \"r\") as f:\n",
        "    content = f.read()\n",
        "    print(content)\n",
        "\n",
        "```\n",
        "\n"
      ],
      "metadata": {
        "id": "uyGAe_e-5cM3"
      }
    },
    {
      "cell_type": "markdown",
      "source": [
        "9. **What is the difference between multithreading and multiprocessing?**\n",
        "- ===MultiThreading===\n",
        " - Multi threading: Multiple threads run within a single process.\n",
        "\n",
        " - Purpose: Mainly used to handle I/O-bound tasks (e.g., reading files, network calls).\n",
        "\n",
        " - Memory: Threads share the same memory space.\n",
        "\n",
        " - Speed: Switching between threads is faster, but they are limited by the Global Interpreter Lock (GIL) in CPython\n",
        "\n",
        "- ===MultiProcessing===\n",
        " - Multi Processing: Multiple processes, each with their own memory space and Python interpreter.\n",
        "\n",
        " - Purpose: Used for CPU-bound tasks (e.g., complex calculations, data processing).\n",
        "\n",
        " - Memory: Each process runs in its own memory space.\n",
        "\n",
        " - Speed: Can utilize multiple CPU cores, avoiding the GIL."
      ],
      "metadata": {
        "id": "K2AMLsg_6Ght"
      }
    },
    {
      "cell_type": "markdown",
      "source": [
        "10. **What are the advantages of using logging in a program?**\n",
        "- Advantages of Using Logging in a Program:\n",
        "\n",
        "  - Helps in Debugging:\n",
        "Logging provides useful information about the program’s execution, making it easier to identify and fix errors.\n",
        "\n",
        "  - Keeps a Record of Events:\n",
        "Important activities, warnings, and errors can be stored for future reference and analysis.\n",
        "\n",
        "  - Better Control than print():\n",
        "Logging allows setting different levels (DEBUG, INFO, WARNING, ERROR, CRITICAL) and can be easily turned on or off without changing the code.\n",
        "\n",
        "  - Improves Maintenance:\n",
        "Logs help developers understand program flow and behavior during maintenance.\n",
        "\n",
        "  - Supports Monitoring:\n",
        "In real-time applications, logs can be used to monitor performance and detect unusual activity.\n",
        "\n",
        "  - Non-Disruptive:\n",
        "Logging runs in the background without stopping program execution, unlike some debugging methods.\n",
        "\n"
      ],
      "metadata": {
        "id": "1Psf50EeaXrD"
      }
    },
    {
      "cell_type": "markdown",
      "source": [
        "11. **What is memory management in Python?**\n",
        "- Memory Management in Python:\n",
        "\n",
        "  - Memory management in Python refers to the process of efficiently handling and allocating memory for storing variables, objects, and data structures during program execution. Python uses an in-built memory manager that handles memory allocation and deallocation automatically. It uses a private heap to store all Python objects and data structures. The Python Memory Manager allocates memory from this heap, and the Garbage Collector frees memory that is no longer in use by reclaiming objects with zero references. Python also uses techniques like reference counting and generational garbage collection to optimize memory usage."
      ],
      "metadata": {
        "id": "bVjHu5Ep3t0q"
      }
    },
    {
      "cell_type": "markdown",
      "source": [
        "12. **What are the basic steps involved in exception handling in Python**\n",
        "- Basic Steps Involved in Exception Handling in Python:\n",
        "\n",
        "  - Identify Risky Code:\n",
        "Determine the part of the code where an error (exception) might occur.\n",
        "\n",
        "  - Use try Block:\n",
        "Place the risky code inside a try block to monitor it for exceptions.\n",
        "\n",
        "  - Handle with except Block:\n",
        "If an exception occurs, the except block is executed to handle the error gracefully.\n",
        "\n",
        "  - Use else Block:\n",
        "Code inside the else block runs if no exception occurs in the try block.\n",
        "\n",
        "  - Use finally Block:\n",
        "Code inside the finally block always executes, whether an exception occurred or not, usually for cleanup tasks."
      ],
      "metadata": {
        "id": "cIOc8d7-4SBS"
      }
    },
    {
      "cell_type": "markdown",
      "source": [
        "13. **Why is memory management important in Python?**\n",
        "- Why Memory Management is Important in Python:\n",
        "\n",
        "  - Memory management is important in Python because it ensures efficient use of the system’s memory resources, which improves the program’s performance and prevents crashes. Proper memory management helps to:\n",
        "\n",
        "  - Avoid Memory Leaks:\n",
        "Releasing unused memory prevents the program from consuming excessive memory over time.\n",
        "\n",
        "  - Improve Performance:\n",
        "Efficient allocation and deallocation of memory make programs run faster.\n",
        "\n",
        "  - Ensure Stability:\n",
        "Prevents the program from running out of memory, which can cause unexpected termination.\n",
        "\n",
        "  - Automatic Management:\n",
        "Python’s garbage collector and reference counting free the programmer from manual memory handling, reducing coding errors.\n",
        "\n",
        "  - Support Large Programs:\n",
        "Efficient memory usage is crucial for handling large datasets and complex applications.\n",
        "\n"
      ],
      "metadata": {
        "id": "xceppFUI5PQ3"
      }
    },
    {
      "cell_type": "markdown",
      "source": [
        "14. **What is the role of try and except in exception handling?**\n",
        "- Role of try and except in Exception Handling:\n",
        "\n",
        "In Python, the try and except blocks are used to handle exceptions and prevent the program from crashing.\n",
        "\n",
        "try Block:\n",
        "Contains the code that might cause an exception. Python tests this block, and if an error occurs, the flow of control is immediately passed to the except block.\n",
        "\n",
        "except Block:\n",
        "Contains the code that handles the exception. It is executed only when an exception occurs in the try block. This allows the program to respond to errors gracefully instead of stopping abruptly.\n",
        "\n",
        "\n",
        "\n",
        "```\n",
        "# This is formatted as code\n",
        "try:\n",
        "    num = int(input(\"Enter a number: \"))\n",
        "    print(10 / num)\n",
        "except ZeroDivisionError:\n",
        "    print(\"Cannot divide by zero.\")\n",
        "\n",
        "```\n",
        "\n"
      ],
      "metadata": {
        "id": "JUM2Hd0v5z-x"
      }
    },
    {
      "cell_type": "markdown",
      "source": [
        "15. **How does Python's garbage collection system work**\n",
        "- Python’s garbage collection system automatically frees up memory by removing objects that are no longer in use. It mainly works through reference counting and generational garbage collection:\n",
        "\n",
        "Reference Counting:\n",
        "\n",
        "Each object has a counter that tracks how many references point to it.\n",
        "\n",
        "When the counter reaches zero, the object is immediately deleted, and memory is freed.\n",
        "\n",
        "Generational Garbage Collection:\n",
        "\n",
        "Some unused objects may still remain due to circular references.\n",
        "\n",
        "Python groups objects into three “generations” based on how long they have existed.\n",
        "\n",
        "Objects in older generations are checked less frequently for garbage collection to improve performance."
      ],
      "metadata": {
        "id": "ylFr-3-h6Ua7"
      }
    },
    {
      "cell_type": "markdown",
      "source": [
        "16. **What is the purpose of the else block in exception handling?**\n",
        "- Purpose of the else Block in Exception Handling:\n",
        "\n",
        "In Python’s exception handling, the else block is used to define code that should run only if no exception occurs in the try block.\n",
        "\n",
        "It is placed after all the except blocks.\n",
        "\n",
        "It helps separate the “normal” execution code from the “error handling” code, making the program more readable.\n",
        "\n",
        "\n",
        "```\n",
        "# This is formatted as code\n",
        "try:\n",
        "    num = int(input(\"Enter a number: \"))\n",
        "    print(10 / num)\n",
        "except ZeroDivisionError:\n",
        "    print(\"Cannot divide by zero.\")\n",
        "else:\n",
        "    print(\"Division was successful without any error.\")\n",
        "\n",
        "```\n",
        "\n"
      ],
      "metadata": {
        "id": "1bCLZYXv6hrh"
      }
    },
    {
      "cell_type": "markdown",
      "source": [
        "17. **What are the common logging levels in Python?**\n",
        "- Common Logging Levels in Python:\n",
        "\n",
        "Python’s logging module provides different levels to indicate the severity of log messages:\n",
        "\n",
        "DEBUG (Level 10):\n",
        "\n",
        "Used for detailed information, mainly for diagnosing problems during development.\n",
        "\n",
        "INFO (Level 20):\n",
        "\n",
        "Confirms that things are working as expected.\n",
        "\n",
        "WARNING (Level 30):\n",
        "\n",
        "Indicates something unexpected happened, or a potential problem that should be looked into.\n",
        "\n",
        "ERROR (Level 40):\n",
        "\n",
        "Shows a serious problem where the program could not perform a certain function.\n",
        "\n",
        "CRITICAL (Level 50):\n",
        "\n",
        "Represents a very serious error that may prevent the program from running.\n",
        "\n"
      ],
      "metadata": {
        "id": "pGqOb0bD8BwW"
      }
    },
    {
      "cell_type": "markdown",
      "source": [
        "18. **What is the difference between os.fork() and multiprocessing in Python?**\n",
        "- os.fork():\n",
        "\n",
        "  - Creates a new child process by duplicating the current process.\n",
        "\n",
        "  - Available only on Unix/Linux systems (not on Windows).\n",
        "\n",
        "  - Requires manual handling of communication between processes.\n",
        "\n",
        "  - Lower-level function, less portable.\n",
        "\n",
        "- multiprocessing Module:\n",
        "\n",
        "  - High-level module for creating and managing multiple processes.\n",
        "\n",
        "  - Works on both Windows and Unix/Linux systems.\n",
        "\n",
        "  - Provides built-in support for inter-process communication, synchronization, and process pools.\n",
        "\n",
        "  - Easier to use and more portable for cross-platform programs.\n",
        "\n"
      ],
      "metadata": {
        "id": "4JALdnuB8Twj"
      }
    },
    {
      "cell_type": "markdown",
      "source": [
        "19. **What is the importance of closing a file in Python ?**\n",
        "- Closing a file in Python is important because it:\n",
        "\n",
        "Frees System Resources:\n",
        "\n",
        "Files take up system memory and file handles. Closing them releases these resources for other tasks.\n",
        "\n",
        "Saves Data Properly:\n",
        "\n",
        "Any data stored in the file buffer is written to the file only when it is closed, preventing data loss.\n",
        "\n",
        "Prevents File Corruption:\n",
        "\n",
        "Ensures that the file is not left in an incomplete or unusable state.\n",
        "\n",
        "Avoids Errors:\n",
        "\n",
        "Leaving files open for too long can cause “file in use” errors and prevent other programs from accessing them.\n",
        "\n",
        "Good Programming Practice:\n",
        "\n",
        "It makes code cleaner, safer, and easier to maintain."
      ],
      "metadata": {
        "id": "eosk3rr8_k2O"
      }
    },
    {
      "cell_type": "markdown",
      "source": [
        "20. **What is the difference between file.read() and file.readline() in Python?**\n",
        "- file.read()\n",
        "\n",
        "Reads the entire file content (or a specified number of characters/bytes if given).\n",
        "\n",
        "Returns the content as a single string.\n",
        "\n",
        "Example:\n",
        "\n",
        "\n",
        "\n",
        "```\n",
        "# This is formatted as code\n",
        "f = open(\"test.txt\", \"r\")\n",
        "data = f.read()\n",
        "print(data)\n",
        "f.close()\n",
        "\n",
        "```\n",
        "- file.readline()\n",
        "\n",
        "Reads only one line from the file at a time (ending at the newline character \\n).\n",
        "\n",
        "Returns the line as a string.\n",
        "\n",
        "Example:\n",
        "\n",
        "\n",
        "```\n",
        "# This is formatted as code\n",
        "f = open(\"test.txt\", \"r\")\n",
        "line = f.readline()\n",
        "print(line)\n",
        "f.close()\n",
        "\n",
        "```\n",
        "\n",
        "\n"
      ],
      "metadata": {
        "id": "9b9mXAVw_-lm"
      }
    },
    {
      "cell_type": "markdown",
      "source": [
        "21. **What is the logging module in Python used for?**\n",
        "- The logging module in Python is used to record (log) messages from a program.\n",
        "It helps developers track the flow of execution, detect problems, and debug applications without interrupting the program.\n",
        "\n",
        "Key Uses:\n",
        "\n",
        "Debugging: Logs detailed information for diagnosing problems.\n",
        "\n",
        "Error Tracking: Records warnings and errors for later review.\n",
        "\n",
        "Monitoring: Keeps a record of events in long-running applications.\n",
        "\n",
        "Different Log Levels: Supports DEBUG, INFO, WARNING, ERROR, and CRITICAL to classify message importance.\n",
        "\n",
        "Flexible Output: Logs can be shown on the console, stored in files, or sent to external systems."
      ],
      "metadata": {
        "id": "P4veBappAsVn"
      }
    },
    {
      "cell_type": "markdown",
      "source": [
        "22. **What is the os module in Python used for in file handling?**\n",
        "- The os module in Python provides functions to interact with the operating system, including file and directory handling.\n",
        "It allows you to create, remove, rename, and navigate files and folders directly from a Python program.\n",
        "\n",
        "Common File Handling Uses:\n",
        "\n",
        "Creating and Removing Directories: os.mkdir(), os.rmdir()\n",
        "\n",
        "Listing Files/Directories: os.listdir()\n",
        "\n",
        "Checking File/Directory Existence: os.path.exists()\n",
        "\n",
        "Renaming Files: os.rename()\n",
        "\n",
        "Getting File Path Information: os.path.abspath(), os.path.join()"
      ],
      "metadata": {
        "id": "dIbyOLwBA9VF"
      }
    },
    {
      "cell_type": "markdown",
      "source": [
        "23. ** What are the challenges associated with memory management in Python?**\n",
        "- Challenges Associated with Memory Management in Python:\n",
        "\n",
        "Garbage Collection Overhead:\n",
        "\n",
        "Automatic garbage collection can sometimes cause a delay in releasing memory, affecting performance.\n",
        "\n",
        "Circular References:\n",
        "\n",
        "Objects referencing each other can stay in memory longer than needed, making garbage collection more complex.\n",
        "\n",
        "High Memory Usage:\n",
        "\n",
        "Python objects often require more memory compared to lower-level languages like C, which can be a problem for large datasets.\n",
        "\n",
        "Fragmentation:\n",
        "\n",
        "Frequent allocation and deallocation of objects may cause memory fragmentation, reducing efficiency.\n",
        "\n",
        "Limited Manual Control:\n",
        "\n",
        "Python’s memory management is automatic, so developers have less control over allocation and deallocation.\n",
        "\n",
        "Reference Counting Limitations:\n",
        "\n",
        "Reference counting cannot handle circular references alone, requiring extra garbage collection passes"
      ],
      "metadata": {
        "id": "tieXSX7LBejB"
      }
    },
    {
      "cell_type": "markdown",
      "source": [
        "24.  **How do you raise an exception manually in Python?**\n",
        "- Raising an Exception Manually in Python:\n",
        "\n",
        "In Python, an exception can be raised manually using the raise keyword.\n",
        "This is useful when you want to signal that an error has occurred or enforce certain conditions in the program.\n",
        "\n",
        "\n",
        "\n",
        "```\n",
        "# This is formatted as code\n",
        "raise ExceptionType(\"Error message\")\n",
        "age = int(input(\"Enter your age: \"))\n",
        "if age < 18:\n",
        "    raise ValueError(\"You must be at least 18 years old.\")\n",
        "else:\n",
        "    print(\"Access granted.\")\n",
        "\n",
        "```\n",
        "\n"
      ],
      "metadata": {
        "id": "yjFQitQuBz23"
      }
    },
    {
      "cell_type": "markdown",
      "source": [
        "25. **Why is it important to use multithreading in certain applications?**\n",
        "- Importance of Using Multithreading in Certain Applications:\n",
        "\n",
        "Multithreading allows a program to execute multiple threads (smaller units of a process) concurrently.\n",
        "It is important in certain applications because it:\n",
        "\n",
        "Improves Performance:\n",
        "\n",
        "Enables tasks to run in parallel, making programs faster, especially for I/O-bound tasks.\n",
        "\n",
        "Better Resource Utilization:\n",
        "\n",
        "CPU and I/O operations can work simultaneously, reducing idle time.\n",
        "\n",
        "Responsive Applications:\n",
        "\n",
        "Keeps applications responsive, e.g., a GUI program can handle user input while performing background tasks.\n",
        "\n",
        "Efficient I/O Handling:\n",
        "\n",
        "Ideal for tasks like file reading/writing, network requests, or database access that involve waiting for external resources.\n",
        "\n",
        "Simplifies Program Structure:\n",
        "\n",
        "Allows dividing a complex task into smaller, independent threads for easier management.\n",
        "\n",
        "Example Use Cases:\n",
        "\n",
        "Web servers handling multiple client requests.\n",
        "\n",
        "Chat applications.\n",
        "\n",
        "Background data processing in desktop/mobile apps."
      ],
      "metadata": {
        "id": "zIzwVopqCyJG"
      }
    },
    {
      "cell_type": "markdown",
      "source": [
        "# ***===Practical Questions ===***"
      ],
      "metadata": {
        "id": "r90Yt-5foIeG"
      }
    },
    {
      "cell_type": "markdown",
      "source": [
        "1.  How can you open a file for writing in Python and write a string to it?"
      ],
      "metadata": {
        "id": "FilEh3_doVVh"
      }
    },
    {
      "cell_type": "code",
      "source": [
        "\n",
        "file = open(\"example.txt\", \"w\")\n",
        "file.write(\"Hello, Python file writing!\")\n",
        "file.close()\n"
      ],
      "metadata": {
        "id": "IM_9x3S0ocDG"
      },
      "execution_count": 6,
      "outputs": []
    },
    {
      "cell_type": "markdown",
      "source": [
        "2.  Write a Python program to read the contents of a file and print each line"
      ],
      "metadata": {
        "id": "u0UnFP5sotmr"
      }
    },
    {
      "cell_type": "code",
      "source": [
        "with open(\"example.txt\", \"r\") as file:\n",
        "    for line in file:\n",
        "        print(line, end=\"\")\n"
      ],
      "metadata": {
        "colab": {
          "base_uri": "https://localhost:8080/"
        },
        "id": "50NY2vJVo9xy",
        "outputId": "10b2b04b-5a0a-49df-e70a-cc57a2eb5041"
      },
      "execution_count": 5,
      "outputs": [
        {
          "output_type": "stream",
          "name": "stdout",
          "text": [
            "Hello, Python file writing!"
          ]
        }
      ]
    },
    {
      "cell_type": "markdown",
      "source": [
        "3. How would you handle a case where the file doesn't exist while trying to open it for reading?"
      ],
      "metadata": {
        "id": "-M3D0We9pEoS"
      }
    },
    {
      "cell_type": "code",
      "source": [
        "try:\n",
        "    with open(\"example.txt\", \"r\") as file:\n",
        "        for line in file:\n",
        "            print(line, end=\"\")\n",
        "except FileNotFoundError:\n",
        "    print(\"The file does not exist.\")\n"
      ],
      "metadata": {
        "colab": {
          "base_uri": "https://localhost:8080/"
        },
        "id": "aJXssO6DqvyH",
        "outputId": "c9596cc8-a986-48ce-ed8c-e7949db57acc"
      },
      "execution_count": 4,
      "outputs": [
        {
          "output_type": "stream",
          "name": "stdout",
          "text": [
            "Hello, Python file writing!"
          ]
        }
      ]
    },
    {
      "cell_type": "markdown",
      "source": [
        "4. Write a Python script that reads from one file and writes its content to another file\n"
      ],
      "metadata": {
        "id": "vJlWLlJZqz5g"
      }
    },
    {
      "cell_type": "code",
      "source": [
        "with open(\"source.txt\", \"r\") as src:\n",
        "    content = src.read()\n",
        "\n",
        "with open(\"destination.txt\", \"w\") as dest:\n",
        "    dest.write(content)\n"
      ],
      "metadata": {
        "id": "OOOtUMbmq6JY"
      },
      "execution_count": 7,
      "outputs": []
    },
    {
      "cell_type": "markdown",
      "source": [
        "5.  How would you catch and handle division by zero error in Python?"
      ],
      "metadata": {
        "id": "bg101h0erJqC"
      }
    },
    {
      "cell_type": "code",
      "source": [
        "try:\n",
        "    result = 10 / 0\n",
        "except ZeroDivisionError:\n",
        "    print(\"Cannot divide by zero.\")\n"
      ],
      "metadata": {
        "colab": {
          "base_uri": "https://localhost:8080/"
        },
        "id": "EWrNYfdSrIl2",
        "outputId": "4bd996c4-871b-4eb2-cc20-d8e0ac879e82"
      },
      "execution_count": 8,
      "outputs": [
        {
          "output_type": "stream",
          "name": "stdout",
          "text": [
            "Cannot divide by zero.\n"
          ]
        }
      ]
    },
    {
      "cell_type": "markdown",
      "source": [
        "6. Write a Python program that logs an error message to a log file when a division by zero exception occurs ?\n"
      ],
      "metadata": {
        "id": "prxSFHGPrbnb"
      }
    },
    {
      "cell_type": "code",
      "source": [
        "import logging\n",
        "\n",
        "logging.basicConfig(filename=\"error.log\", level=logging.ERROR)\n",
        "\n",
        "try:\n",
        "    result = 10 / 0\n",
        "except ZeroDivisionError as e:\n",
        "    logging.error(f\"Division by zero error: {e}\")\n"
      ],
      "metadata": {
        "colab": {
          "base_uri": "https://localhost:8080/"
        },
        "id": "7TqmmNbo-CGm",
        "outputId": "0ec869e9-04a9-4406-c958-571b8683bf6f"
      },
      "execution_count": 2,
      "outputs": [
        {
          "output_type": "stream",
          "name": "stderr",
          "text": [
            "ERROR:root:Division by zero error: division by zero\n"
          ]
        }
      ]
    },
    {
      "cell_type": "markdown",
      "source": [
        "7. How do you log information at different levels (INFO, ERROR, WARNING) in Python using the logging module?"
      ],
      "metadata": {
        "id": "_2M0j9cN-DxT"
      }
    },
    {
      "cell_type": "code",
      "source": [
        "import logging\n",
        "\n",
        "logging.basicConfig(filename=\"app.log\", level=logging.DEBUG)\n",
        "\n",
        "logging.info(\"This is an info message.\")\n",
        "logging.warning(\"This is a warning message.\")\n",
        "logging.error(\"This is an error message.\")\n"
      ],
      "metadata": {
        "colab": {
          "base_uri": "https://localhost:8080/"
        },
        "id": "hBS5CM_D-OwT",
        "outputId": "af9c9a4b-c3e6-49e3-c19c-7c19f6d11a19"
      },
      "execution_count": 1,
      "outputs": [
        {
          "output_type": "stream",
          "name": "stderr",
          "text": [
            "WARNING:root:This is a warning message.\n",
            "ERROR:root:This is an error message.\n"
          ]
        }
      ]
    },
    {
      "cell_type": "markdown",
      "source": [
        "8. Write a program to handle a file opening error using exception handling"
      ],
      "metadata": {
        "id": "Vu7EzJKC-YbC"
      }
    },
    {
      "cell_type": "code",
      "source": [
        "try:\n",
        "    with open(\"nonexistent.txt\", \"r\") as file:\n",
        "        content = file.read()\n",
        "except FileNotFoundError:\n",
        "    print(\"Error: The file could not be found.\")\n"
      ],
      "metadata": {
        "colab": {
          "base_uri": "https://localhost:8080/"
        },
        "id": "Il7zlflw-eB7",
        "outputId": "ec310bbd-1385-4769-cf5a-2d6df33cc66a"
      },
      "execution_count": 3,
      "outputs": [
        {
          "output_type": "stream",
          "name": "stdout",
          "text": [
            "Error: The file could not be found.\n"
          ]
        }
      ]
    },
    {
      "cell_type": "markdown",
      "source": [
        "9.  How can you read a file line by line and store its content in a list in Python?"
      ],
      "metadata": {
        "id": "mOQVkai7-gMv"
      }
    },
    {
      "cell_type": "code",
      "source": [
        "with open(\"example.txt\", \"r\") as file:\n",
        "    lines = file.readlines()\n",
        "\n",
        "print(lines)\n"
      ],
      "metadata": {
        "id": "dqZLOuqe-yhm"
      },
      "execution_count": 4,
      "outputs": []
    },
    {
      "cell_type": "markdown",
      "source": [
        "10. How can you append data to an existing file in Python?"
      ],
      "metadata": {
        "id": "fi0J7qwa_Idf"
      }
    },
    {
      "cell_type": "code",
      "source": [
        "with open(\"example.txt\", \"a\") as file:\n",
        "    file.write(\"\\nThis is appended text.\")\n"
      ],
      "metadata": {
        "id": "NqpnOjDI_QGl"
      },
      "execution_count": null,
      "outputs": []
    },
    {
      "cell_type": "markdown",
      "source": [
        "11. Write a Python program that uses a try-except block to handle an error when attempting to access a\n",
        "dictionary key that doesn't exist"
      ],
      "metadata": {
        "id": "kJUrrmqX_V0i"
      }
    },
    {
      "cell_type": "code",
      "source": [
        "my_dict = {\"name\": \"Kartik\", \"age\": 19}\n",
        "\n",
        "try:\n",
        "    value = my_dict[\"city\"]\n",
        "except KeyError:\n",
        "    print(\"Error: The specified key does not exist.\")\n"
      ],
      "metadata": {
        "colab": {
          "base_uri": "https://localhost:8080/"
        },
        "id": "YwC3cqXW_Zze",
        "outputId": "08e30b97-d0be-471c-fa1e-dc84d9e9e21e"
      },
      "execution_count": 5,
      "outputs": [
        {
          "output_type": "stream",
          "name": "stdout",
          "text": [
            "Error: The specified key does not exist.\n"
          ]
        }
      ]
    },
    {
      "cell_type": "markdown",
      "source": [
        "12. Write a program that demonstrates using multiple except blocks to handle different types of exceptions"
      ],
      "metadata": {
        "id": "OhAva9id_glA"
      }
    },
    {
      "cell_type": "code",
      "source": [
        "try:\n",
        "    num = int(input(\"Enter a number: \"))\n",
        "    result = 10 / num\n",
        "    print(\"Result:\", result)\n",
        "except ValueError:\n",
        "    print(\"Error: Invalid input. Please enter a number.\")\n",
        "except ZeroDivisionError:\n",
        "    print(\"Error: Cannot divide by zero.\")\n",
        "except Exception as e:\n",
        "    print(\"An unexpected error occurred:\", e)\n"
      ],
      "metadata": {
        "colab": {
          "base_uri": "https://localhost:8080/"
        },
        "id": "dnWfRoGE_kbM",
        "outputId": "cdd25d01-3907-46b9-f508-013e7d8ea599"
      },
      "execution_count": 9,
      "outputs": [
        {
          "output_type": "stream",
          "name": "stdout",
          "text": [
            "Enter a number: Kartik\n",
            "Error: Invalid input. Please enter a number.\n"
          ]
        }
      ]
    },
    {
      "cell_type": "markdown",
      "source": [
        "13.  How would you check if a file exists before attempting to read it in Python ?"
      ],
      "metadata": {
        "id": "_-D4lgAh_xDn"
      }
    },
    {
      "cell_type": "code",
      "source": [
        "import os\n",
        "\n",
        "if os.path.exists(\"example.txt\"):\n",
        "    with open(\"example.txt\", \"r\") as file:\n",
        "        print(file.read())\n",
        "else:\n",
        "    print(\"The file does not exist.\")\n"
      ],
      "metadata": {
        "colab": {
          "base_uri": "https://localhost:8080/"
        },
        "id": "hqHiZ1H5_6Ok",
        "outputId": "4a453156-5e3d-411a-e65a-93f895f0b7d3"
      },
      "execution_count": 10,
      "outputs": [
        {
          "output_type": "stream",
          "name": "stdout",
          "text": [
            "The file does not exist.\n"
          ]
        }
      ]
    },
    {
      "cell_type": "markdown",
      "source": [
        "14. Write a program that uses the logging module to log both informational and error messages"
      ],
      "metadata": {
        "id": "xUdKPAucAEfj"
      }
    },
    {
      "cell_type": "code",
      "source": [
        "import logging\n",
        "\n",
        "logging.basicConfig(filename=\"app.log\", level=logging.DEBUG)\n",
        "\n",
        "logging.info(\"Application started successfully.\")\n",
        "try:\n",
        "    result = 10 / 0\n",
        "except ZeroDivisionError as e:\n",
        "    logging.error(f\"Error occurred: {e}\")\n"
      ],
      "metadata": {
        "colab": {
          "base_uri": "https://localhost:8080/"
        },
        "id": "JQp3orL-AI4z",
        "outputId": "09f0662d-143b-48a0-9a29-95ff59d91a78"
      },
      "execution_count": 11,
      "outputs": [
        {
          "output_type": "stream",
          "name": "stderr",
          "text": [
            "ERROR:root:Error occurred: division by zero\n"
          ]
        }
      ]
    },
    {
      "cell_type": "markdown",
      "source": [
        "15. Write a Python program that prints the content of a file and handles the case when the file is empty"
      ],
      "metadata": {
        "id": "MwK3_J7TAzHB"
      }
    },
    {
      "cell_type": "code",
      "source": [
        "try:\n",
        "    with open(\"example.txt\", \"r\") as file:\n",
        "        content = file.read()\n",
        "        if content:\n",
        "            print(content)\n",
        "        else:\n",
        "            print(\"The file is empty.\")\n",
        "except FileNotFoundError:\n",
        "    print(\"Error: The file does not exist.\")\n"
      ],
      "metadata": {
        "colab": {
          "base_uri": "https://localhost:8080/"
        },
        "id": "U9w46yYNA3Cj",
        "outputId": "6eefbe91-6ccc-46ed-ef09-4f7ec2583b95"
      },
      "execution_count": 12,
      "outputs": [
        {
          "output_type": "stream",
          "name": "stdout",
          "text": [
            "Error: The file does not exist.\n"
          ]
        }
      ]
    },
    {
      "cell_type": "markdown",
      "source": [
        "16. Demonstrate how to use memory profiling to check the memory usage of a small program"
      ],
      "metadata": {
        "id": "G-xd-j3MA9iL"
      }
    },
    {
      "cell_type": "code",
      "source": [
        "pip install memory-profiler\n",
        "\n",
        "from memory_profiler import profile\n",
        "\n",
        "@profile\n",
        "def my_function():\n",
        "    data = [i for i in range(100000)]\n",
        "    print(\"List created.\")\n",
        "\n",
        "if __name__ == \"__main__\":\n",
        "    my_function()\n",
        "\n",
        "python -m memory_profiler script.py\n",
        "\n",
        "\n"
      ],
      "metadata": {
        "id": "xvv2QNSMBGym"
      },
      "execution_count": 13,
      "outputs": []
    },
    {
      "cell_type": "markdown",
      "source": [
        "17. Write a Python program to create and write a list of numbers to a file, one number per line ?"
      ],
      "metadata": {
        "id": "e2TZBGJPBfct"
      }
    },
    {
      "cell_type": "code",
      "source": [
        "numbers = [1, 2, 3, 4, 5]\n",
        "\n",
        "with open(\"numbers.txt\", \"w\") as file:\n",
        "    for num in numbers:\n",
        "        file.write(f\"{num}\\n\")\n"
      ],
      "metadata": {
        "id": "XFp23bqqBmFF"
      },
      "execution_count": 16,
      "outputs": []
    },
    {
      "cell_type": "markdown",
      "source": [
        "18. How would you implement a basic logging setup that logs to a file with rotation after 1MB ?\n"
      ],
      "metadata": {
        "id": "X2cDwDITF7lx"
      }
    },
    {
      "cell_type": "code",
      "source": [
        "import logging\n",
        "from logging.handlers import RotatingFileHandler\n",
        "\n",
        "logger = logging.getLogger()\n",
        "logger.setLevel(logging.DEBUG)\n",
        "\n",
        "handler = RotatingFileHandler(\"app.log\", maxBytes=1_000_000, backupCount=5)\n",
        "formatter = logging.Formatter('%(asctime)s - %(levelname)s - %(message)s')\n",
        "handler.setFormatter(formatter)\n",
        "\n",
        "logger.addHandler(handler)\n",
        "\n",
        "logger.info(\"This is an info message.\")\n",
        "logger.error(\"This is an error message.\")\n"
      ],
      "metadata": {
        "colab": {
          "base_uri": "https://localhost:8080/"
        },
        "id": "9PgwGtRGGK8Q",
        "outputId": "72094449-ebc8-4064-d043-f68c23cf6c31"
      },
      "execution_count": 17,
      "outputs": [
        {
          "output_type": "stream",
          "name": "stderr",
          "text": [
            "INFO:root:This is an info message.\n",
            "ERROR:root:This is an error message.\n"
          ]
        }
      ]
    },
    {
      "cell_type": "markdown",
      "source": [
        "19. Write a program that handles both IndexError and KeyError using a try-except block?"
      ],
      "metadata": {
        "id": "xbu11_TQGZDV"
      }
    },
    {
      "cell_type": "code",
      "source": [
        "my_list = [1, 2, 3]\n",
        "my_dict = {\"a\": 10, \"b\": 20}\n",
        "\n",
        "try:\n",
        "    print(my_list[5])\n",
        "    print(my_dict[\"c\"])\n",
        "except IndexError:\n",
        "    print(\"Error: List index out of range.\")\n",
        "except KeyError:\n",
        "    print(\"Error: Dictionary key does not exist.\")\n"
      ],
      "metadata": {
        "colab": {
          "base_uri": "https://localhost:8080/"
        },
        "id": "4VJKVpeIGiES",
        "outputId": "d1411752-ce68-496d-ba2e-446b251ace22"
      },
      "execution_count": 18,
      "outputs": [
        {
          "output_type": "stream",
          "name": "stdout",
          "text": [
            "Error: List index out of range.\n"
          ]
        }
      ]
    },
    {
      "cell_type": "markdown",
      "source": [
        "20. How would you open a file and read its contents using a context manager in Python ?"
      ],
      "metadata": {
        "id": "J9oVOP87GldS"
      }
    },
    {
      "cell_type": "code",
      "source": [
        "with open(\"example.txt\", \"r\") as file:\n",
        "    content = file.read()\n",
        "    print(content)"
      ],
      "metadata": {
        "id": "fGpthkvgGqs9"
      },
      "execution_count": 19,
      "outputs": []
    },
    {
      "cell_type": "markdown",
      "source": [
        "21. Write a Python program that reads a file and prints the number of occurrences of a specific word ?"
      ],
      "metadata": {
        "id": "nQfaqKreGzHc"
      }
    },
    {
      "cell_type": "code",
      "source": [
        "word_to_count = \"python\"\n",
        "\n",
        "with open(\"example.txt\", \"r\") as file:\n",
        "    content = file.read().lower()\n",
        "    count = content.split().count(word_to_count.lower())\n",
        "\n",
        "print(f\"The word '{word_to_count}' occurs {count} times.\")\n"
      ],
      "metadata": {
        "id": "fJ_Fn_vYG9wE"
      },
      "execution_count": 20,
      "outputs": []
    },
    {
      "cell_type": "markdown",
      "source": [
        "22. How can you check if a file is empty before attempting to read its contents ?"
      ],
      "metadata": {
        "id": "aelReJJTHCsc"
      }
    },
    {
      "cell_type": "code",
      "source": [
        "import os\n",
        "\n",
        "if os.path.exists(\"example.txt\") and os.path.getsize(\"example.txt\") > 0:\n",
        "    with open(\"example.txt\", \"r\") as file:\n",
        "        print(file.read())\n",
        "else:\n",
        "    print(\"The file is empty or does not exist.\")\n"
      ],
      "metadata": {
        "colab": {
          "base_uri": "https://localhost:8080/"
        },
        "id": "lGf7U7rpHI7X",
        "outputId": "f4cc775b-e526-4f50-d0c7-50e4a48c5a2f"
      },
      "execution_count": 21,
      "outputs": [
        {
          "output_type": "stream",
          "name": "stdout",
          "text": [
            "The file is empty or does not exist.\n"
          ]
        }
      ]
    },
    {
      "cell_type": "markdown",
      "source": [
        "23. Write a Python program that writes to a log file when an error occurs during file handling."
      ],
      "metadata": {
        "id": "piG0GO6zHQQS"
      }
    },
    {
      "cell_type": "code",
      "source": [
        "import logging\n",
        "\n",
        "logging.basicConfig(filename=\"file_errors.log\", level=logging.ERROR, format=\"%(asctime)s - %(levelname)s - %(message)s\")\n",
        "\n",
        "try:\n",
        "    with open(\"nonexistent.txt\", \"r\") as file:\n",
        "        content = file.read()\n",
        "except FileNotFoundError as e:\n",
        "    logging.error(f\"File handling error: {e}\")\n"
      ],
      "metadata": {
        "colab": {
          "base_uri": "https://localhost:8080/"
        },
        "id": "y8f_zzcwHSn5",
        "outputId": "354a9880-4077-4395-8450-a481612ad841"
      },
      "execution_count": 22,
      "outputs": [
        {
          "output_type": "stream",
          "name": "stderr",
          "text": [
            "ERROR:root:File handling error: [Errno 2] No such file or directory: 'nonexistent.txt'\n"
          ]
        }
      ]
    }
  ]
}